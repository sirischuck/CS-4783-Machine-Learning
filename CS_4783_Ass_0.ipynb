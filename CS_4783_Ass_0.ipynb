{
  "cells": [
    {
      "cell_type": "markdown",
      "metadata": {
        "id": "view-in-github",
        "colab_type": "text"
      },
      "source": [
        "<a href=\"https://colab.research.google.com/github/sirischuck/CS-4783-Machine-Learning/blob/main/CS_4783_Ass_0.ipynb\" target=\"_parent\"><img src=\"https://colab.research.google.com/assets/colab-badge.svg\" alt=\"Open In Colab\"/></a>"
      ]
    },
    {
      "cell_type": "code",
      "execution_count": null,
      "metadata": {
        "colab": {
          "background_save": true
        },
        "id": "dKHMMH1CVTOg"
      },
      "outputs": [],
      "source": [
        "from string import ascii_lowercase\n",
        "import numpy as np\n",
        "import matplotlib.pyplot as plt\n",
        "\n",
        "#open the file with the input data\n",
        "infile=open(\"test.txt\")\n",
        "\n",
        "#process the data in each line of the file\n",
        "for line in infile:\n",
        "\n",
        "  #generate the dict based on the frequency of the letters\n",
        "  dict ={key : 0 for key in ascii_lowercase}\n",
        "  for a in line:\n",
        "    a=a.lower()\n",
        "    if a in dict:\n",
        "      dict[a]+=1 \n",
        "\n",
        "  #convert the dict to an numpy array\n",
        "  arr= np.zeros(26)\n",
        "  i=0\n",
        "  for key in dict:\n",
        "    arr[i]=dict[key]\n",
        "    i+=1\n",
        "  \n",
        "  #print out the histogram\n",
        "  print(\"intput:\", line)\n",
        "  print(\"output:\", dict)\n",
        "  print(\"\\n\")\n",
        "\n",
        "  #creates the bar charts for the outputdata(unnormalized and normalized)\n",
        "  plt.bar(dict.keys(),arr)\n",
        "  plt.show()\n",
        "  nArr=arr/i\n",
        "  plt.bar(dict.keys(),nArr)\n",
        "  plt.show()\n"
      ]
    },
    {
      "cell_type": "code",
      "execution_count": null,
      "metadata": {
        "id": "mAqWAuPXhm7Z"
      },
      "outputs": [],
      "source": [
        "import numpy as np\n",
        "import cv2\n",
        "import math\n",
        "\n",
        "\n",
        "img = cv2.imread('input.png')\n",
        "\n",
        "#creates a copy to be \"compressed\"\n",
        "compImg=img.copy()\n",
        "\n",
        "#\"compresses\" the image\n",
        "for i, row in enumerate(compImg):\n",
        "  for j, pix in enumerate(row):\n",
        "    rDist=np.linalg.norm(pix-[255,0,0])\n",
        "    gDist=np.linalg.norm(pix-[0,255,0])\n",
        "    bDist=np.linalg.norm(pix-[0,0,255])\n",
        "\n",
        "    minDist=min(min(rDist,gDist),bDist)\n",
        "\n",
        "    if minDist==rDist:\n",
        "      compImg[i,j]=[255,0,0]\n",
        "    elif minDist==gDist:\n",
        "      compImg[i,j]=[0,255,0]\n",
        "    else:\n",
        "      compImg[i,j]=[0,0,255]\n",
        "\n",
        "#writes the \"compressed\" image to a file\n",
        "cv2.imwrite('output1.png', compImg)\n",
        "\n",
        "#Draws a black square on the picture\n",
        "shape=img.shape\n",
        "midpoint=(int(shape[0]/2),int(shape[1]/2))\n",
        "img[midpoint[0]-25:midpoint[0]+25, midpoint[1]-25:midpoint[1]+25] =[0,0,0]\n",
        "\n",
        "cv2.imwrite('output2.png', img)\n",
        "\n"
      ]
    },
    {
      "cell_type": "code",
      "execution_count": null,
      "metadata": {
        "id": "rVFlxot2CMu7"
      },
      "outputs": [],
      "source": [
        "import numpy as np\n",
        "\n",
        "A=np.array([[3.0,3.0],[4.0,2.0]])\n",
        "B=np.array([11.25,10.0])\n",
        "\n",
        "prices=np.linalg.solve(A,B)\n",
        "\n",
        "print(\"Soft tacos cost: $\", prices[0], \"\\nBurritos cost: $\", prices[1])"
      ]
    }
  ],
  "metadata": {
    "colab": {
      "collapsed_sections": [],
      "name": "CS 4783 Ass 0",
      "provenance": [],
      "authorship_tag": "ABX9TyMYngFW9Gu7b1HURFTd9eIK",
      "include_colab_link": true
    },
    "kernelspec": {
      "display_name": "Python 3",
      "name": "python3"
    },
    "language_info": {
      "name": "python"
    }
  },
  "nbformat": 4,
  "nbformat_minor": 0
}